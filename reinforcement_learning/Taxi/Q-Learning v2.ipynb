{
 "cells": [
  {
   "cell_type": "code",
   "execution_count": 55,
   "metadata": {},
   "outputs": [
    {
     "name": "stdout",
     "output_type": "stream",
     "text": [
      "Episode: 10000\n",
      "9.828125\n"
     ]
    }
   ],
   "source": [
    "import numpy as np\n",
    "import random\n",
    "import gym\n",
    "import time\n",
    "from IPython.display import clear_output\n",
    "\n",
    "env = gym.make(\"Taxi-v2\").env\n",
    "\n",
    "q_table = np.zeros([env.observation_space.n, env.action_space.n])\n",
    "\n",
    "alpha = 0.1\n",
    "gamma = 0.6\n",
    "epsilon = 0.1\n",
    "\n",
    "total_episodes = 10000\n",
    "\n",
    "start = time.clock()\n",
    "for episode in range(1, total_episodes+1):\n",
    "    state = env.reset()\n",
    "    \n",
    "    epochs, reward = 0, 0\n",
    "    done = False\n",
    "    \n",
    "    while not done:\n",
    "        #epsilon = 1/((epochs + 1)**(1/2))\n",
    "        \n",
    "        if random.uniform(0, 1) < epsilon:\n",
    "            action = env.action_space.sample()\n",
    "        else:\n",
    "            action = np.argmax(q_table[state])\n",
    "            \n",
    "        next_state, reward, done, info = env.step(action)\n",
    "        epochs += 1\n",
    "            \n",
    "        q_table[state, action] += alpha * (reward + gamma * np.max(q_table[next_state] - q_table[state, action]))\n",
    "        \n",
    "        state = next_state\n",
    "        \n",
    "    if episode % 1000 == 0:\n",
    "        clear_output(wait = True)\n",
    "        print(f\"Episode: {episode}\")        \n",
    "\n",
    "print(f\"{time.clock() - start}s\")\n"
   ]
  },
  {
   "cell_type": "code",
   "execution_count": 62,
   "metadata": {},
   "outputs": [
    {
     "name": "stdout",
     "output_type": "stream",
     "text": [
      "+---------+\n",
      "|\u001b[35m\u001b[42mR\u001b[0m\u001b[0m: | : :G|\n",
      "| : : : : |\n",
      "| : : : : |\n",
      "| | : | : |\n",
      "|Y| : |B: |\n",
      "+---------+\n",
      "  (Dropoff)\n",
      "State: 16\n",
      "Timestep: 10\n",
      "Penalties: 0\n",
      "{'prob': 1.0}\n"
     ]
    }
   ],
   "source": [
    "state = int(input(\"State: \"))\n",
    "clear_output(wait = True)\n",
    "env.s = state\n",
    "env.render()\n",
    "time.sleep(0.5)\n",
    "\n",
    "done = False\n",
    "epochs, reward, penalties = 0, 0, 0\n",
    "    \n",
    "while not done:    \n",
    "    action = np.argmax(q_table[state])\n",
    "    \n",
    "    state, reward, done, info = env.step(action)\n",
    "    epochs += 1\n",
    "    \n",
    "    if reward == -10:\n",
    "        penalties += 1\n",
    "\n",
    "    clear_output(wait = True)\n",
    "    env.render()\n",
    "    print(f\"State: {state}\")\n",
    "    print(f\"Timestep: {epochs}\")\n",
    "    print(f\"Penalties: {penalties}\")\n",
    "    print(f\"{info}\")\n",
    "    time.sleep(0.5)"
   ]
  },
  {
   "cell_type": "code",
   "execution_count": 56,
   "metadata": {},
   "outputs": [
    {
     "name": "stdout",
     "output_type": "stream",
     "text": [
      "{'prob': 1.0}\n"
     ]
    }
   ],
   "source": [
    "print(f\"{info}\")"
   ]
  },
  {
   "cell_type": "code",
   "execution_count": null,
   "metadata": {},
   "outputs": [],
   "source": []
  }
 ],
 "metadata": {
  "kernelspec": {
   "display_name": "Python 3",
   "language": "python",
   "name": "python3"
  },
  "language_info": {
   "codemirror_mode": {
    "name": "ipython",
    "version": 3
   },
   "file_extension": ".py",
   "mimetype": "text/x-python",
   "name": "python",
   "nbconvert_exporter": "python",
   "pygments_lexer": "ipython3",
   "version": "3.6.7"
  }
 },
 "nbformat": 4,
 "nbformat_minor": 2
}
