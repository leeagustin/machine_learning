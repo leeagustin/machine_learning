{
 "cells": [
  {
   "cell_type": "code",
   "execution_count": null,
   "metadata": {},
   "outputs": [],
   "source": [
    "# --- Brute Force --- #\n",
    "\n",
    "import gym\n",
    "from IPython.display import clear_output\n",
    "from time import sleep\n",
    "\n",
    "def print_frames(frames, delay):\n",
    "        for i, frame in enumerate(frames):\n",
    "            clear_output(wait=True)\n",
    "            print(frame['frame'].getvalue())\n",
    "            print(f\"Timestep: {i+1}\")\n",
    "            print(f\"State: {frame['state']}\")\n",
    "            print(f\"Action: {frame['action']}\")\n",
    "            print(f\"Reward: {frame['reward']}\")\n",
    "            sleep(delay)\n",
    "                  \n",
    "env = gym.make(\"Taxi-v2\").env # Creates random taxi environment\n",
    "\n",
    "# env.encode(taxi row, taxi column, passenger index, destination index)\n",
    "state = env.encode(3, 1, 2, 0) # This is state 328 (from 0 to 499)\n",
    "\n",
    "env.s = 0 # Setting current state to state 328\n",
    "\n",
    "# env.P[328] # Displays reward table (states x actions matrix)\n",
    "             # {action: [probability, nextstate, reward, done]}\n",
    "             # action[0 to 5]: south, north, east, west, pickup, dropoff\n",
    "\n",
    "epochs = 0 # Number of steps\n",
    "penalties, reward = 0, 0\n",
    "frames = [] # For animation\n",
    "done = False\n",
    "\n",
    "while not done:\n",
    "    action = env.action_space.sample() # Returns random action_space (uniform distribution)\n",
    "    state, reward, done, info = env.step(action) # Takes random action and returns info\n",
    "                                                 # observation, reward, done, info = env.step(action)\n",
    "\n",
    "    if reward == -10: # Happens if Taxi tried to take action 4 or 5\n",
    "        penalties += 1\n",
    "\n",
    "    # Put each rendered frame into dict for animation\n",
    "    frames.append({\n",
    "        'frame': env.render(mode='ansi'),\n",
    "        'state': state,\n",
    "        'action': action,\n",
    "        'reward': reward\n",
    "        }\n",
    "    )\n",
    "\n",
    "    epochs += 1\n",
    "    \n",
    "print_frames(frames, 0.01)\n",
    "print(f\"Timesteps taken: {epochs}\")\n",
    "print(f\"Penalties incurred: {penalties}\")"
   ]
  }
 ],
 "metadata": {
  "kernelspec": {
   "display_name": "Python 3",
   "language": "python",
   "name": "python3"
  },
  "language_info": {
   "codemirror_mode": {
    "name": "ipython",
    "version": 3
   },
   "file_extension": ".py",
   "mimetype": "text/x-python",
   "name": "python",
   "nbconvert_exporter": "python",
   "pygments_lexer": "ipython3",
   "version": "3.6.7"
  }
 },
 "nbformat": 4,
 "nbformat_minor": 2
}
