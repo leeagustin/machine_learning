{
 "cells": [
  {
   "cell_type": "code",
   "execution_count": 60,
   "metadata": {
    "collapsed": true
   },
   "outputs": [
    {
     "name": "stdout",
     "output_type": "stream",
     "text": [
      "Train on 25000 samples, validate on 10000 samples\n",
      "Epoch 1/10\n",
      "25000/25000 [==============================] - 5s 188us/step - loss: 0.4248 - acc: 0.8075 - val_loss: 0.3263 - val_acc: 0.8661\n",
      "Epoch 2/10\n",
      "25000/25000 [==============================] - 4s 147us/step - loss: 0.2421 - acc: 0.9077 - val_loss: 0.3313 - val_acc: 0.8641\n",
      "Epoch 3/10\n",
      "25000/25000 [==============================] - 4s 153us/step - loss: 0.1844 - acc: 0.9314 - val_loss: 0.3075 - val_acc: 0.8756\n",
      "Epoch 4/10\n",
      "25000/25000 [==============================] - 4s 171us/step - loss: 0.1472 - acc: 0.9450 - val_loss: 0.3227 - val_acc: 0.8773\n",
      "Epoch 5/10\n",
      "25000/25000 [==============================] - 4s 150us/step - loss: 0.1155 - acc: 0.9578 - val_loss: 0.3957 - val_acc: 0.8637\n",
      "Epoch 6/10\n",
      "25000/25000 [==============================] - 4s 154us/step - loss: 0.0919 - acc: 0.9670 - val_loss: 0.3986 - val_acc: 0.8716\n",
      "Epoch 7/10\n",
      "25000/25000 [==============================] - 4s 154us/step - loss: 0.0675 - acc: 0.9767 - val_loss: 0.4446 - val_acc: 0.8694\n",
      "Epoch 8/10\n",
      "25000/25000 [==============================] - 4s 153us/step - loss: 0.0519 - acc: 0.9828 - val_loss: 0.4717 - val_acc: 0.8689\n",
      "Epoch 9/10\n",
      "25000/25000 [==============================] - 4s 148us/step - loss: 0.0314 - acc: 0.9908 - val_loss: 0.5828 - val_acc: 0.8551\n",
      "Epoch 10/10\n",
      "25000/25000 [==============================] - 4s 147us/step - loss: 0.0273 - acc: 0.9920 - val_loss: 0.5896 - val_acc: 0.8655\n",
      "25000/25000 [==============================] - 4s 172us/step\n",
      "[0.5748940252566338, 0.86628]\n"
     ]
    },
    {
     "data": {
      "text/plain": [
       "array([[0.02124002],\n",
       "       [0.9999999 ],\n",
       "       [0.99961215],\n",
       "       ...,\n",
       "       [0.11564999],\n",
       "       [0.00405452],\n",
       "       [0.9482801 ]], dtype=float32)"
      ]
     },
     "execution_count": 60,
     "metadata": {},
     "output_type": "execute_result"
    }
   ],
   "source": [
    "from keras.datasets import imdb\n",
    "\n",
    "# train_data and test_data each contain 25000 movie reviews (sequences of integers)\n",
    "# each integer in the sequence represents a specific word in a dictionary\n",
    "# num_words = 10000 only pulls out the top 10000 most-used words from the movie reviews\n",
    "(train_data, train_labels), (test_data, test_labels) = imdb.load_data(num_words = 10000)\n",
    "\n",
    "import numpy as np\n",
    "\n",
    "# turns data into neural network-ready tensor\n",
    "def vectorize_sequences(sequences, dimension = 10000):\n",
    "    results = np.zeros((len(sequences), dimension)) # 25000 x 10000 2D tensor\n",
    "    \n",
    "    for i, sequence in enumerate(sequences):\n",
    "        results[i, sequence] = 1\n",
    "        \n",
    "    return results\n",
    "\n",
    "# turns train_data and test_data into neural network-ready tensors\n",
    "x_train = vectorize_sequences(train_data)\n",
    "x_test = vectorize_sequences(test_data)\n",
    "\n",
    "# turns train_labels and test_labels into numpy type array\n",
    "y_train = np.asarray(train_labels).astype('float32')\n",
    "y_test = np.asarray(test_labels).astype('float32')\n",
    "\n",
    "from keras import models\n",
    "from keras import layers\n",
    "\n",
    "# creates neural network\n",
    "model = models.Sequential()\n",
    "model.add(layers.Dense(16, activation = 'relu', input_shape = (10000, ))) # relu(dot(W, input) + b)\n",
    "model.add(layers.Dense(16, activation = 'relu'))\n",
    "model.add(layers.Dense(1, activation = 'sigmoid')) # sigmoid function\n",
    "\n",
    "# set aside some sequences and their labels to monitor loss and accuracy during the training process\n",
    "x_val = x_train[:10000]\n",
    "y_val = y_train[:10000]\n",
    "\n",
    "# make the training data exclude the data used to monitor loss and accuracy previously\n",
    "partial_x_train = x_train[10000:]\n",
    "partial_y_train = y_train[10000:]\n",
    "\n",
    "# define optimizer, loss function, and metrics to optimize\n",
    "model.compile(optimizer = 'rmsprop',\n",
    "             loss = 'binary_crossentropy',\n",
    "             metrics = ['acc'])\n",
    "\n",
    "# training begins\n",
    "history = model.fit(partial_x_train,\n",
    "                   partial_y_train,\n",
    "                   epochs = 4,\n",
    "                   batch_size = 512,\n",
    "                   validation_data = (x_val, y_val))\n",
    "\n",
    "# tests the trained neural network with the test data\n",
    "results = model.evaluate(x_test, y_test)\n",
    "print(results)\n",
    "\n",
    "# calculates and shows the predicted values\n",
    "model.predict(x_test)"
   ]
  },
  {
   "cell_type": "code",
   "execution_count": 61,
   "metadata": {
    "collapsed": true
   },
   "outputs": [
    {
     "data": {
      "image/png": "[encoded data removed]",
      "text/plain": [
       "<Figure size 432x288 with 1 Axes>"
      ]
     },
     "metadata": {
      "needs_background": "light"
     },
     "output_type": "display_data"
    },
    {
     "data": {
      "image/png": "[encoded data removed]",
      "text/plain": [
       "<Figure size 432x288 with 1 Axes>"
      ]
     },
     "metadata": {
      "needs_background": "light"
     },
     "output_type": "display_data"
    }
   ],
   "source": [
    "import matplotlib.pyplot as plt\n",
    "\n",
    "history_dict = history.history\n",
    "loss_values = history_dict['loss']\n",
    "val_loss_values = history_dict['val_loss']\n",
    "\n",
    "epochs = range(1, len(loss_values) + 1)\n",
    "\n",
    "plt.plot(epochs, loss_values, 'bo', label = 'Training Loss')\n",
    "plt.plot(epochs, val_loss_values, 'b', label = 'Training and Validation Loss')\n",
    "plt.xlabel('Epochs')\n",
    "plt.ylabel('Loss')\n",
    "plt.legend()\n",
    "plt.show()\n",
    "\n",
    "plt.clf()\n",
    "acc_values = history_dict['acc']\n",
    "history_acc_values = history_dict['val_acc']\n",
    "\n",
    "plt.plot(epochs, acc_values, 'bo', label = 'Training Accuracy')\n",
    "plt.plot(epochs, history_acc_values, 'b', label = 'Training and Validation Accuracy')\n",
    "plt.xlabel('Epochs')\n",
    "plt.ylabel('Accuracy')\n",
    "plt.legend()\n",
    "plt.show()"
   ]
  },
  {
   "cell_type": "code",
   "execution_count": null,
   "metadata": {},
   "outputs": [],
   "source": []
  }
 ],
 "metadata": {
  "kernelspec": {
   "display_name": "Python 3",
   "language": "python",
   "name": "python3"
  }
 },
 "nbformat": 4,
 "nbformat_minor": 2
}
