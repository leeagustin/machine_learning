{
 "cells": [
  {
   "cell_type": "code",
   "execution_count": 92,
   "metadata": {},
   "outputs": [
    {
     "name": "stdout",
     "output_type": "stream",
     "text": [
      "Train on 20000 samples, validate on 5000 samples\n",
      "Epoch 1/5\n",
      "20000/20000 [==============================] - 11s 559us/step - loss: 0.5728 - acc: 0.6739 - val_loss: 0.3788 - val_acc: 0.8330\n",
      "Epoch 2/5\n",
      "20000/20000 [==============================] - 6s 310us/step - loss: 0.3256 - acc: 0.8623 - val_loss: 0.3409 - val_acc: 0.8552\n",
      "Epoch 3/5\n",
      "20000/20000 [==============================] - 6s 323us/step - loss: 0.2547 - acc: 0.8972 - val_loss: 0.3305 - val_acc: 0.8646\n",
      "Epoch 4/5\n",
      "20000/20000 [==============================] - 6s 324us/step - loss: 0.2109 - acc: 0.9182 - val_loss: 0.3960 - val_acc: 0.8416\n",
      "Epoch 5/5\n",
      "20000/20000 [==============================] - 7s 325us/step - loss: 0.1794 - acc: 0.9313 - val_loss: 0.3536 - val_acc: 0.8604\n"
     ]
    }
   ],
   "source": [
    "from keras.datasets import imdb\n",
    "from keras.preprocessing import sequence\n",
    "from keras import layers\n",
    "from keras import models\n",
    "import numpy as np\n",
    "\n",
    "max_features = 10000\n",
    "max_len = 500\n",
    "\n",
    "x_train = sequence.pad_sequences(x_train, maxlen = max_len)\n",
    "x_test = sequence.pad_sequences(x_test, maxlen = max_len)\n",
    "\n",
    "model = models.Sequential()\n",
    "\n",
    "# [loss, accuracy]\n",
    "# Dense model achieved a score of [0.291025115442276, 0.87948]\n",
    "'''\n",
    "model.add(layers.Embedding(max_features, 8, input_length = max_len))\n",
    "model.add(layers.Flatten())\n",
    "model.add(layers.Dense(8, activation = 'relu'))\n",
    "model.add(layers.Dropout(0.5))\n",
    "model.add(layers.Dense(8, activation = 'relu'))\n",
    "model.add(layers.Dropout(0.5))\n",
    "'''\n",
    "\n",
    "# Convolutional model achieved a score of [0.3701916217184067, 0.85116]\n",
    "model.add(layers.Embedding(max_features, 32, input_length = max_len))\n",
    "model.add(layers.Conv1D(32, 4, activation = 'relu'))\n",
    "model.add(layers.MaxPooling1D(2))\n",
    "model.add(layers.Conv1D(32, 4, activation = 'relu'))\n",
    "model.add(layers.MaxPooling1D(2))\n",
    "model.add(layers.Conv1D(32, 4, activation = 'relu'))\n",
    "model.add(layers.GlobalMaxPooling1D())\n",
    "\n",
    "model.add(layers.Dense(32, activation = 'relu'))\n",
    "model.add(layers.Dense(1, activation = 'sigmoid'))\n",
    "\n",
    "model.compile(optimizer = 'rmsprop', loss = 'binary_crossentropy', metrics = ['acc'])\n",
    "\n",
    "history = model.fit(x_train,\n",
    "                   y_train,\n",
    "                   epochs = 5,\n",
    "                   batch_size = 128,\n",
    "                   validation_split = 0.2)"
   ]
  },
  {
   "cell_type": "code",
   "execution_count": 93,
   "metadata": {},
   "outputs": [
    {
     "name": "stdout",
     "output_type": "stream",
     "text": [
      "25000/25000 [==============================] - 6s 238us/step\n"
     ]
    },
    {
     "data": {
      "text/plain": [
       "[0.3701916217184067, 0.85116]"
      ]
     },
     "execution_count": 93,
     "metadata": {},
     "output_type": "execute_result"
    }
   ],
   "source": [
    "model.evaluate(x_test, y_test)"
   ]
  },
  {
   "cell_type": "code",
   "execution_count": 91,
   "metadata": {},
   "outputs": [
    {
     "data": {
      "image/png": "[encoded data removed]",
      "text/plain": [
       "<Figure size 432x288 with 1 Axes>"
      ]
     },
     "metadata": {
      "needs_background": "light"
     },
     "output_type": "display_data"
    },
    {
     "data": {
      "image/png": "[encoded data removed]",
      "text/plain": [
       "<Figure size 432x288 with 1 Axes>"
      ]
     },
     "metadata": {
      "needs_background": "light"
     },
     "output_type": "display_data"
    }
   ],
   "source": [
    "import matplotlib.pyplot as plt\n",
    "\n",
    "history_dict = history.history\n",
    "epochs = len(history_dict['acc'])\n",
    "\n",
    "val_acc = history_dict['val_acc']\n",
    "acc = history_dict['acc']\n",
    "val_loss = history_dict['val_loss']\n",
    "loss = history_dict['loss']\n",
    "\n",
    "plt.plot(range(1, epochs+1), acc, 'bo', label = 'Training Accuracy')\n",
    "plt.plot(range(1, epochs+1), val_acc, 'b', label = 'Validation Accuracy')\n",
    "plt.xlabel('Epochs')\n",
    "plt.ylabel('Accuracy')\n",
    "plt.legend()\n",
    "plt.show()\n",
    "\n",
    "plt.clf()\n",
    "plt.plot(range(1, epochs+1), loss, 'bo', label = 'Training Loss')\n",
    "plt.plot(range(1, epochs+1), val_loss, 'b', label = 'Validation Loss')\n",
    "plt.xlabel('Epochs')\n",
    "plt.ylabel('Loss')\n",
    "plt.legend()\n",
    "plt.show()"
   ]
  },
  {
   "cell_type": "code",
   "execution_count": null,
   "metadata": {},
   "outputs": [],
   "source": []
  },
  {
   "cell_type": "code",
   "execution_count": null,
   "metadata": {},
   "outputs": [],
   "source": []
  }
 ],
 "metadata": {
  "kernelspec": {
   "display_name": "Python 3",
   "language": "python",
   "name": "python3"
  },
  "language_info": {
   "codemirror_mode": {
    "name": "ipython",
    "version": 3
   },
   "file_extension": ".py",
   "mimetype": "text/x-python",
   "name": "python",
   "nbconvert_exporter": "python",
   "pygments_lexer": "ipython3",
   "version": "3.6.7"
  }
 },
 "nbformat": 4,
 "nbformat_minor": 2
}
